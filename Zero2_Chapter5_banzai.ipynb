{
 "cells": [
  {
   "attachments": {},
   "cell_type": "markdown",
   "metadata": {},
   "source": [
    "# 5章　リカレントニューラルネットワーク(RNN)\n",
    "ここからはゼロつく5章を見てみましょう．\n",
    "\n",
    "RNNの構造は以下のような計算式で表されます．P186の（5.9）式です．\n",
    "$$\n",
    "h_t = tanh(h_{t-1}W_h + x_tW_x + b)\n",
    "$$\n",
    "\n",
    "ここで，$h_t$は時刻$t$における隠れ層の状態ベクトル，$x_t$は時刻$t$における入力ベクトル，$W_h$は隠れ層の重み，$W_x$は入力層の重み，$b$はバイアスです．\n",
    "\n",
    "各時刻のRNNレイヤは，そのレイヤへの入力と一つ前のRNNレイヤからの出力を受け取ります．\n",
    "\n",
    "そして，そのふたつの情報を元に，その時刻の出力が計算されます．"
   ]
  },
  {
   "cell_type": "code",
   "execution_count": 2,
   "metadata": {},
   "outputs": [],
   "source": [
    "import numpy as np"
   ]
  },
  {
   "cell_type": "code",
   "execution_count": 4,
   "metadata": {},
   "outputs": [
    {
     "data": {
      "text/plain": [
       "array([0, 0, 0])"
      ]
     },
     "execution_count": 4,
     "metadata": {},
     "output_type": "execute_result"
    }
   ],
   "source": [
    "np.zeros_like([1,2,3]) # 0で埋める"
   ]
  },
  {
   "cell_type": "code",
   "execution_count": 7,
   "metadata": {},
   "outputs": [],
   "source": [
    "class RNN:\n",
    "    def __init__(self , Wx ,Wh ,b):\n",
    "        self.params = [Wx ,Wh ,b]\n",
    "        self.grads = [np.zeros_like(Wx) ,np.zeros_like(Wh) ,np.zeros_like(b)] # パラメータの初期化\n",
    "        self.cache = None \n",
    "    \n",
    "    def forward(self ,x ,h_prev):\n",
    "        Wx ,Wh ,b = self.params\n",
    "        t = np.dot(h_prev ,Wh) + np.dot(x ,Wx) + b\n",
    "        h_next = np.tanh(t)\n",
    "        \n",
    "        self.cache = (x ,h_prev ,h_next)\n",
    "        return h_next\n",
    "\n",
    "    def backward(self ,dh_next):\n",
    "        Wx ,Wh ,b = self.params\n",
    "        x ,h_prev ,h_next = self.cache\n",
    "        \n",
    "        dt = dh_next * (1 - h_next**2) \n",
    "        db = np.sum(dt ,axis = 0)\n",
    "        dWh = np.dot(h_prev.T ,dt)\n",
    "        dh_prev = np.dot(dt ,Wh.T)\n",
    "        dWx = np.dot(x.T ,dt)\n",
    "        dx = np.dot(dt ,Wx.T)\n",
    "        \n",
    "        self.grads[0][...] = dWx\n",
    "        self.grads[1][...] = dWh\n",
    "        self.grads[2][...] = db\n",
    "        \n",
    "        return dx ,dh_prev"
   ]
  },
  {
   "cell_type": "code",
   "execution_count": null,
   "metadata": {},
   "outputs": [],
   "source": []
  },
  {
   "attachments": {},
   "cell_type": "markdown",
   "metadata": {},
   "source": []
  }
 ],
 "metadata": {
  "kernelspec": {
   "display_name": "base",
   "language": "python",
   "name": "python3"
  },
  "language_info": {
   "codemirror_mode": {
    "name": "ipython",
    "version": 3
   },
   "file_extension": ".py",
   "mimetype": "text/x-python",
   "name": "python",
   "nbconvert_exporter": "python",
   "pygments_lexer": "ipython3",
   "version": "3.10.9"
  },
  "orig_nbformat": 4
 },
 "nbformat": 4,
 "nbformat_minor": 2
}

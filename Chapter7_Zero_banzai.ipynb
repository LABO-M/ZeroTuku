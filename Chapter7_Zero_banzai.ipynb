{
 "cells": [
  {
   "attachments": {},
   "cell_type": "markdown",
   "metadata": {},
   "source": [
    "# 『ゼロから始めるDeepLeaning』7章：畳み込みニューラルネットワーク(CNN)\n",
    "\n",
    "今回用いるファイルは\n",
    "\n",
    "mnist.py,simple_convnet.py,trainer.py,collections.py,im2col.py,layers.py,optimizer.py\n",
    "\n",
    "になります．\n",
    "\n",
    "## 講義の流れ\n",
    "\n",
    "### 1.畳み込み演算の理解\n",
    "\n",
    "### 2.プーリング層の理解\n",
    "\n",
    "### 3.畳み込み層とプーリング層の実装\n",
    "\n",
    "### 4.代表的なCNNの紹介とアーキテクチャの見方\n",
    "\n",
    "### 5.PyTorchを使ったCNNの実装"
   ]
  },
  {
   "cell_type": "code",
   "execution_count": 1,
   "metadata": {},
   "outputs": [],
   "source": [
    "# coding: utf-8\n",
    "import numpy as np\n",
    "import matplotlib.pyplot as plt\n",
    "import sys, os\n",
    "sys.path.append(os.pardir) # 親ディレクトリのファイルをインポートするための設定\n",
    "from collections import OrderedDict # Pythonの順序付き辞書型を扱うためのライブラリ\n",
    "\n",
    "plt.style.use('ggplot')\n",
    "\n",
    "# ここから下は、ゼロから作るDeepLearningのライブラリをインポートしている\n",
    "# from mnist import load_mnist # mnistデータセットを読み込むためのライブラリ\n",
    "# from simple_convnet import SimpleConvNet # 畳み込み実装の実装のためのライブラリ\n",
    "# from trainer import Trainer # 学習を行うためのライブラリ\n",
    "# from im2col import * # im2colのためのライブラリ\n",
    "# from layers import * # 各レイヤーを扱うためのライブラリ\n",
    "# from optimizer import * # 最適化手法を扱うためのライブラリ"
   ]
  },
  {
   "attachments": {},
   "cell_type": "markdown",
   "metadata": {},
   "source": [
    "## 概要\n",
    "題目にある畳み込みニューラルネットワーク(CNN)は，これまで学習してきた全結合層(Affine)のニューラルネットワークを工夫したものになっています．\n",
    "\n",
    "もともと全結合層には以下の欠点がありました．\n",
    "\n",
    "#### 1.層を増やしたり入力次元を増やしたりすると，それに伴ってパラメータが爆発的に増えてしまう．\n",
    "\n",
    "#### 2.入力データの次元を変えられない．\n",
    "\n",
    "これらを解消するために開発されたのが畳み込み演算を用いたニューラルネットワークになります．\n",
    "\n",
    "ここから，CNNの概要を簡単に説明します．\n",
    "\n",
    "### 畳み込みニューラルネットワークにおける2つの構成要素\n",
    "\n",
    "CNNでは全結合層に加えて，新たに『畳み込み層』と『プーリング層』が登場します．\n",
    "\n",
    "まずは，白板でこれら実装を行うための演算を学びましょう．\n",
    "\n",
    "### 出力サイズの確認\n",
    "$$\n",
    "O = \\lfloor \\frac{I + 2P - K}{S} \\rfloor+1\\\\\n",
    "$$\n",
    "$O:出力サイズ，I:入力サイズ，P:パディングサイズ，K:フィルターサイズ$"
   ]
  },
  {
   "attachments": {},
   "cell_type": "markdown",
   "metadata": {},
   "source": [
    "## im2col(image to column)\n",
    "参考：https://qiita.com/kuroitu/items/35d7b5a4bde470f69570\n",
    "\n",
    "https://www.youtube.com/watch?v=9s83xaQzAuA\n",
    "\n",
    "ここからは画像データを行列に変換する関数『im2col』を学びます．\n",
    "\n",
    "畳み込みの実装は，真面目にやるとfor文を繰り返し使用することになります．\n",
    "\n",
    "これは面倒であると同時に，Numpyとfor文との相性が悪い（計算に時間がかかる）ため処理が遅くなる欠点があります．\n",
    "\n",
    "そこでim2colという便利な関数を用いたシンプルな実装を行います．"
   ]
  },
  {
   "attachments": {},
   "cell_type": "markdown",
   "metadata": {},
   "source": [
    "まずは理解のために簡単な例で実装をしましょう．\n",
    "$$\n",
    "\\begin{bmatrix}\n",
    "1 & 1 & 1 & 1 \\\\\n",
    "2 & 2 & 2 & 2 \\\\\n",
    "3 & 3 & 3 & 3 \\\\\n",
    "4 & 4 & 4 & 4 \\\\\n",
    "\\end{bmatrix}\n",
    "\\ast\n",
    "\\begin{bmatrix}\n",
    "1 & 0 \\\\\n",
    "1 & 0 \\\\\n",
    "\\end{bmatrix}\n",
    "=\n",
    "\\begin{bmatrix}\n",
    "a & b & c \\\\\n",
    "d & e & f \\\\\n",
    "g & h & i \\\\\n",
    "\\end{bmatrix}\n",
    "$$\n",
    "という畳み込み計算を実装します．"
   ]
  },
  {
   "attachments": {},
   "cell_type": "markdown",
   "metadata": {},
   "source": [
    "これは内積の形で以下のように書けます\n",
    "$$\n",
    "\\begin{bmatrix}\n",
    "1 & 0 & 1 & 0 \\\\\n",
    "\\end{bmatrix}\n",
    "・\n",
    "\\begin{bmatrix}\n",
    "1 & 1 & 1 & 2 &・・・&3\\\\\n",
    "1 & 1 & 1 & 2 &・・・&3\\\\\n",
    "2 & 2 & 2 & 3 &・・・&4\\\\\n",
    "2 & 2 & 2 & 3 &・・・&4\\\\\n",
    "\\end{bmatrix}\n",
    "=\n",
    "\\begin{bmatrix}\n",
    "a & b & c & d & e & f & g & h & i \\\\\n",
    "\\end{bmatrix}\n",
    "$$\n",
    "\n",
    "この計算における左辺の左側をim2colは作成します．"
   ]
  },
  {
   "cell_type": "code",
   "execution_count": 2,
   "metadata": {},
   "outputs": [],
   "source": [
    "import numpy as np"
   ]
  },
  {
   "cell_type": "code",
   "execution_count": 3,
   "metadata": {},
   "outputs": [
    {
     "data": {
      "text/plain": [
       "array([[1, 1, 1, 1],\n",
       "       [2, 2, 2, 2],\n",
       "       [3, 3, 3, 3],\n",
       "       [4, 4, 4, 4]])"
      ]
     },
     "execution_count": 3,
     "metadata": {},
     "output_type": "execute_result"
    }
   ],
   "source": [
    "# 入力データ\n",
    "x = np.array([[1,1,1,1],\n",
    "              [2,2,2,2],\n",
    "              [3,3,3,3],\n",
    "              [4,4,4,4]])\n",
    "x"
   ]
  },
  {
   "cell_type": "code",
   "execution_count": 4,
   "metadata": {},
   "outputs": [
    {
     "data": {
      "text/plain": [
       "4"
      ]
     },
     "execution_count": 4,
     "metadata": {},
     "output_type": "execute_result"
    }
   ],
   "source": [
    "len(x)"
   ]
  },
  {
   "cell_type": "code",
   "execution_count": 5,
   "metadata": {},
   "outputs": [
    {
     "data": {
      "text/plain": [
       "array([[1, 0],\n",
       "       [1, 0]])"
      ]
     },
     "execution_count": 5,
     "metadata": {},
     "output_type": "execute_result"
    }
   ],
   "source": [
    "# カーネル\n",
    "k = np.array([[1,0],\n",
    "              [1,0]])\n",
    "k"
   ]
  },
  {
   "cell_type": "code",
   "execution_count": 6,
   "metadata": {},
   "outputs": [],
   "source": [
    "# アウトプットサイズの計算を行う関数\n",
    "def output_size(input_size, filter_size, stride=1, pad=0):\n",
    "    return (input_size + 2*pad - filter_size) / stride + 1"
   ]
  },
  {
   "cell_type": "code",
   "execution_count": 7,
   "metadata": {},
   "outputs": [],
   "source": [
    "o = output_size(len(x) , len(k) , stride=1, pad=0)\n",
    "o = int(o)"
   ]
  },
  {
   "cell_type": "code",
   "execution_count": 8,
   "metadata": {},
   "outputs": [
    {
     "data": {
      "text/plain": [
       "array([[0., 0., 0., 0., 0., 0., 0., 0., 0.],\n",
       "       [0., 0., 0., 0., 0., 0., 0., 0., 0.],\n",
       "       [0., 0., 0., 0., 0., 0., 0., 0., 0.],\n",
       "       [0., 0., 0., 0., 0., 0., 0., 0., 0.]])"
      ]
     },
     "execution_count": 8,
     "metadata": {},
     "output_type": "execute_result"
    }
   ],
   "source": [
    "x_col = np.zeros((len(k)*len(k) , o*o))\n",
    "x_col"
   ]
  },
  {
   "cell_type": "code",
   "execution_count": 9,
   "metadata": {},
   "outputs": [
    {
     "data": {
      "text/plain": [
       "array([[1., 1., 0., 0., 0., 0., 0., 0., 0.],\n",
       "       [1., 1., 0., 0., 0., 0., 0., 0., 0.],\n",
       "       [2., 2., 0., 0., 0., 0., 0., 0., 0.],\n",
       "       [2., 2., 0., 0., 0., 0., 0., 0., 0.]])"
      ]
     },
     "execution_count": 9,
     "metadata": {},
     "output_type": "execute_result"
    }
   ],
   "source": [
    "# 試しに、xの左上の2x2の部分を取り出して、x_colの一番左に入れてみる\n",
    "x_col[: , 0] = x[0:2 , 0:2].reshape(-1)\n",
    "# その次に、xの左から2番目の2x2の部分を取り出して、x_colの2列目に入れてみる\n",
    "x_col[: , 1] = x[0:2 , 1:3].reshape(-1) # .reshape(-1)は、1次元配列に変換するメソッド．列方向に並べる\n",
    "x_col"
   ]
  },
  {
   "cell_type": "code",
   "execution_count": 10,
   "metadata": {},
   "outputs": [],
   "source": [
    "# 実際にim2colを行う関数を作成する\n",
    "def im2col(x , fil_size , output_size):\n",
    "    x_col = np.zeros((fil_size*fil_size , output_size*output_size))\n",
    "    for i in range(output_size):\n",
    "        for j in range(output_size):\n",
    "            x_col[: , i*output_size+j] = x[i:i+fil_size , j:j+fil_size].reshape(-1)\n",
    "    return x_col"
   ]
  },
  {
   "cell_type": "code",
   "execution_count": 11,
   "metadata": {},
   "outputs": [
    {
     "data": {
      "text/plain": [
       "array([[1., 1., 1., 2., 2., 2., 3., 3., 3.],\n",
       "       [1., 1., 1., 2., 2., 2., 3., 3., 3.],\n",
       "       [2., 2., 2., 3., 3., 3., 4., 4., 4.],\n",
       "       [2., 2., 2., 3., 3., 3., 4., 4., 4.]])"
      ]
     },
     "execution_count": 11,
     "metadata": {},
     "output_type": "execute_result"
    }
   ],
   "source": [
    "im2col(x , len(k) , o)"
   ]
  },
  {
   "attachments": {},
   "cell_type": "markdown",
   "metadata": {},
   "source": [
    "以上の様にim2colとは，フィルターにとって都合の良いように入力データを展開する関数になります．\n",
    "\n",
    "教科書ではブラックボックスで使用することを想定していますが，教科書で想定されているim2col関数を以下に示しておきます．また，im2col.pyに同様のコードがありますので必要に応じて参照してください．\n",
    "\n"
   ]
  },
  {
   "cell_type": "code",
   "execution_count": 12,
   "metadata": {},
   "outputs": [],
   "source": [
    "# 画像から行列への変換．\n",
    "def im2col(input_data, filter_h, filter_w, stride=1, pad=0):\n",
    "    \"\"\"\n",
    "\n",
    "    Parameters\n",
    "    ----------\n",
    "    input_data : (データ数, チャンネル, 高さ, 幅)の4次元配列からなる入力データ\n",
    "    filter_h : フィルターの高さ\n",
    "    filter_w : フィルターの幅\n",
    "    stride : ストライド\n",
    "    pad : パディング\n",
    "\n",
    "    Returns\n",
    "    -------\n",
    "    col : 2次元配列\n",
    "    \"\"\"\n",
    "    N, C, H, W = input_data.shape\n",
    "    out_h = (H + 2*pad - filter_h)//stride + 1\n",
    "    out_w = (W + 2*pad - filter_w)//stride + 1\n",
    "\n",
    "    img = np.pad(input_data, [(0,0), (0,0), (pad, pad), (pad, pad)], 'constant')\n",
    "    col = np.zeros((N, C, filter_h, filter_w, out_h, out_w))\n",
    "\n",
    "    for y in range(filter_h):\n",
    "        y_max = y + stride*out_h\n",
    "        for x in range(filter_w):\n",
    "            x_max = x + stride*out_w\n",
    "            col[:, :, y, x, :, :] = img[:, :, y:y_max:stride, x:x_max:stride]\n",
    "\n",
    "    col = col.transpose(0, 4, 5, 1, 2, 3).reshape(N*out_h*out_w, -1)\n",
    "    return col"
   ]
  },
  {
   "attachments": {},
   "cell_type": "markdown",
   "metadata": {},
   "source": [
    "実際に実行をしてみましょう．\n",
    "\n",
    "入力には(バッチサイズ , チャンネル数 , 縦 , 横)という情報を含み，\n",
    "\n",
    "im2colの引数は(入力データ，フィルターサイズ縦 , フィルターサイズ横 , ストライド幅 , パディングサイズ)という具合になっています．\n",
    "\n",
    "以下では2つの例を示しています．"
   ]
  },
  {
   "cell_type": "code",
   "execution_count": 13,
   "metadata": {},
   "outputs": [
    {
     "name": "stdout",
     "output_type": "stream",
     "text": [
      "(9, 75)\n",
      "(90, 75)\n"
     ]
    }
   ],
   "source": [
    "x1 = np.random.rand(1, 3, 7, 7) # 入力データ\n",
    "col1 = im2col(x1, 5, 5, stride=1, pad=0)\n",
    "print(col1.shape) # (9, 75)\n",
    "\n",
    "x2 = np.random.rand(10, 3, 7, 7) # 10個のデータ\n",
    "col2 = im2col(x2, 5, 5, stride=1, pad=0)\n",
    "print(col2.shape) # (90, 75)"
   ]
  },
  {
   "attachments": {},
   "cell_type": "markdown",
   "metadata": {},
   "source": [
    "出力は\n",
    "$$\n",
    "（アウトプットサイズの積　，チャンネル数×フィルターサイズの積）\n",
    "$$\n",
    "になるはずです．\n",
    "\n",
    "以上が畳み込み計算を効率良く行うための基本的な関数であるim2colの説明でした．"
   ]
  },
  {
   "attachments": {},
   "cell_type": "markdown",
   "metadata": {},
   "source": [
    "## 畳み込み層(Convolution layer)の実装\n",
    "\n",
    "ここからは畳み込み層の実装に入ります．\n",
    "\n",
    "引数として，カーネルの情報を必要とします．具体的には，各要素の値，ストライド幅，パディングサイズです．\n",
    "\n",
    "その後，先程作成したim2col関数を用いて畳み込み演算を行い，バイアス項を付けて出力値を得ます．"
   ]
  },
  {
   "cell_type": "code",
   "execution_count": 14,
   "metadata": {},
   "outputs": [],
   "source": [
    "class Convolution:\n",
    "    def __init__(self , W , b , stride=1 , pad=0):\n",
    "        self.W = W\n",
    "        self.b = b\n",
    "        self.stride = stride\n",
    "        self.pad = pad\n",
    "    \n",
    "    def forward(self , x):\n",
    "        FN , C , FH , FW = self.W.shape\n",
    "        N , C , H , W = x.shape\n",
    "        out_h = int(1 + (H + 2*self.pad - FH)/self.stride)\n",
    "        out_w = int(1 + (W + 2*self.pad - FW)/self.stride)\n",
    "\n",
    "        col = im2col(x , FH , FW , self.stride , self.pad)\n",
    "        col_W = self.W.reshape(FN , -1).T\n",
    "        out = np.dot(col , col_W) + self.b\n",
    "\n",
    "        out = out.reshape(N , out_h , out_w , -1).transpose(0 , 3 , 1 , 2)\n",
    "        \n",
    "        return out"
   ]
  },
  {
   "attachments": {},
   "cell_type": "markdown",
   "metadata": {},
   "source": [
    ".transposeメソットは初めて出てきましたので説明します．\n",
    "\n",
    "https://deepage.net/features/numpy-transpose.html\n",
    "\n",
    "出力値は(バッチサイズ，高さ，幅，チャンネル数)となっているため，（バッチサイズ，チャンネル，高さ，幅）と変更したいです．そのためのインデックスの順番変更のためにこのメソッドを使いました．"
   ]
  },
  {
   "attachments": {},
   "cell_type": "markdown",
   "metadata": {},
   "source": [
    "この様にim2colを用いてあげれば，内積の形で畳み込みができたことを思い出すと理解できるように，全結合層と同じ様に実装が可能です．\n",
    "\n",
    "続いて逆伝播ですが全結合層と異なるのは，2次元配列に戻す手間があることです．以下に2次元配列に変換するためのcol2im関数を表示させます．先ほどと同様にim2col.pyにも同じ関数が存在します．"
   ]
  },
  {
   "cell_type": "code",
   "execution_count": 15,
   "metadata": {},
   "outputs": [],
   "source": [
    "# 行列から画像への変換\n",
    "def col2im(col, input_shape, filter_h, filter_w, stride=1, pad=0):\n",
    "    \"\"\"\n",
    "    Parameters\n",
    "    ----------\n",
    "    col :\n",
    "    input_shape : 入力データの形状（例：(10, 1, 28, 28)）\n",
    "    filter_h :\n",
    "    filter_w\n",
    "    stride\n",
    "    pad\n",
    "\n",
    "    Returns\n",
    "    -------\n",
    "    \"\"\"\n",
    "    N, C, H, W = input_shape\n",
    "    out_h = (H + 2*pad - filter_h)//stride + 1\n",
    "    out_w = (W + 2*pad - filter_w)//stride + 1\n",
    "    col = col.reshape(N, out_h, out_w, C, filter_h, filter_w).transpose(0, 3, 4, 5, 1, 2)\n",
    "\n",
    "    img = np.zeros((N, C, H + 2*pad + stride - 1, W + 2*pad + stride - 1))\n",
    "    for y in range(filter_h):\n",
    "        y_max = y + stride*out_h\n",
    "        for x in range(filter_w):\n",
    "            x_max = x + stride*out_w\n",
    "            img[:, :, y:y_max:stride, x:x_max:stride] += col[:, :, y, x, :, :]\n",
    "\n",
    "    return img[:, :, pad:H + pad, pad:W + pad]"
   ]
  },
  {
   "attachments": {},
   "cell_type": "markdown",
   "metadata": {},
   "source": [
    "このcol2im関数を用いて順伝搬及び逆伝搬が揃ったクラスを以下に示します．これはlayer.pyファイルに存在します．"
   ]
  },
  {
   "cell_type": "code",
   "execution_count": 16,
   "metadata": {},
   "outputs": [],
   "source": [
    "class Convolution:\n",
    "    def __init__(self, W, b, stride=1, pad=0):\n",
    "        self.W = W\n",
    "        self.b = b\n",
    "        self.stride = stride\n",
    "        self.pad = pad\n",
    "        \n",
    "        # 中間データ（backward時に使用）\n",
    "        self.x = None   \n",
    "        self.col = None\n",
    "        self.col_W = None\n",
    "        \n",
    "        # 重み・バイアスパラメータの勾配\n",
    "        self.dW = None\n",
    "        self.db = None\n",
    " \n",
    " # 順伝播\n",
    "    def forward(self, x):\n",
    "        FN, C, FH, FW = self.W.shape\n",
    "        N, C, H, W = x.shape\n",
    "        out_h = 1 + int((H + 2*self.pad - FH) / self.stride)\n",
    "        out_w = 1 + int((W + 2*self.pad - FW) / self.stride)\n",
    "\n",
    "        col = im2col(x, FH, FW, self.stride, self.pad)\n",
    "        col_W = self.W.reshape(FN, -1).T\n",
    "\n",
    "        out = np.dot(col, col_W) + self.b\n",
    "        out = out.reshape(N, out_h, out_w, -1).transpose(0, 3, 1, 2)\n",
    "\n",
    "        self.x = x\n",
    "        self.col = col\n",
    "        self.col_W = col_W\n",
    "\n",
    "        return out\n",
    "# 逆伝播\n",
    "    def backward(self, dout):\n",
    "        FN, C, FH, FW = self.W.shape\n",
    "        dout = dout.transpose(0,2,3,1).reshape(-1, FN)\n",
    "\n",
    "        self.db = np.sum(dout, axis=0)\n",
    "        self.dW = np.dot(self.col.T, dout)\n",
    "        self.dW = self.dW.transpose(1, 0).reshape(FN, C, FH, FW)\n",
    "\n",
    "        dcol = np.dot(dout, self.col_W.T)\n",
    "        dx = col2im(dcol, self.x.shape, FH, FW, self.stride, self.pad)\n",
    "\n",
    "        return dx"
   ]
  },
  {
   "attachments": {},
   "cell_type": "markdown",
   "metadata": {},
   "source": [
    "## プーリング層(Pooling layer)の実装\n",
    "\n",
    "続いてプーリング層の実装に移ります．\n",
    "\n",
    "教科書ではいわゆるMaxPoolingの説明をしています．\n",
    "\n",
    "カーネルサイズの範囲で最大値を返すこと以外は，畳み込み層の実装と大差はありませんので実際のclassを以下に示しておきます．"
   ]
  },
  {
   "cell_type": "code",
   "execution_count": 17,
   "metadata": {},
   "outputs": [],
   "source": [
    "class Pooling:\n",
    "    def __init__(self, pool_h, pool_w, stride=2, pad=0):\n",
    "        self.pool_h = pool_h\n",
    "        self.pool_w = pool_w\n",
    "        self.stride = stride\n",
    "        self.pad = pad\n",
    "        \n",
    "        self.x = None\n",
    "        self.arg_max = None\n",
    "\n",
    "    def forward(self, x):\n",
    "        N, C, H, W = x.shape\n",
    "        out_h = int(1 + (H - self.pool_h) / self.stride)\n",
    "        out_w = int(1 + (W - self.pool_w) / self.stride)\n",
    "\n",
    "        col = im2col(x, self.pool_h, self.pool_w, self.stride, self.pad)\n",
    "        col = col.reshape(-1, self.pool_h*self.pool_w)\n",
    "\n",
    "        arg_max = np.argmax(col, axis=1)\n",
    "        out = np.max(col, axis=1)\n",
    "        out = out.reshape(N, out_h, out_w, C).transpose(0, 3, 1, 2)\n",
    "\n",
    "        self.x = x\n",
    "        self.arg_max = arg_max\n",
    "\n",
    "        return out\n",
    "\n",
    "    def backward(self, dout):\n",
    "        dout = dout.transpose(0, 2, 3, 1)\n",
    "        \n",
    "        pool_size = self.pool_h * self.pool_w\n",
    "        dmax = np.zeros((dout.size, pool_size))\n",
    "        dmax[np.arange(self.arg_max.size), self.arg_max.flatten()] = dout.flatten()\n",
    "        dmax = dmax.reshape(dout.shape + (pool_size,)) \n",
    "        \n",
    "        dcol = dmax.reshape(dmax.shape[0] * dmax.shape[1] * dmax.shape[2], -1)\n",
    "        dx = col2im(dcol, self.x.shape, self.pool_h, self.pool_w, self.stride, self.pad)\n",
    "        \n",
    "        return dx"
   ]
  },
  {
   "attachments": {},
   "cell_type": "markdown",
   "metadata": {},
   "source": [
    "## CNNの実装\n",
    "Convolution層とPooling層を実装したので，いよいよ畳み込みニューラルネットワークの実装に移ります．\n",
    "\n",
    "### アーキテクチャ(SimpleConvNet)\n",
    "Convolution - ReLU - Pooling - Affine - ReLU - Affine - Softmax\n",
    "\n",
    "### 引数\n",
    "input_dim : 入力データの次元(チャンネル，高さ，幅)\n",
    "\n",
    "conv_param : 畳み込み層のハイパーパラメータ\n",
    "\n",
    "hidden_size : 隠れ層\n",
    "\n",
    "output_size : 出力層\n",
    "\n",
    "weight_init_std : 初期化時の標準偏差"
   ]
  },
  {
   "cell_type": "code",
   "execution_count": 18,
   "metadata": {},
   "outputs": [],
   "source": [
    "from layers import *\n",
    "from functions import *\n",
    "\n",
    "class SimpleConvNet:\n",
    "    # SimpleConvNetの初期化処理\n",
    "    def __init__(self , input_dim=(1 , 28 , 28) , conv_param={'filter_num':30 , 'filter_size':5 , 'pad':0 , 'stride':1} , hidden_size=100 , output_size=10 , weight_init_std=0.01):\n",
    "        filter_num = conv_param['filter_num']\n",
    "        filter_size = conv_param['filter_size']\n",
    "        filter_pad = conv_param['pad']\n",
    "        filter_stride = conv_param['stride']\n",
    "        input_size = input_dim[1]\n",
    "        conv_output_size = (input_size - filter_size + 2*filter_pad)/filter_stride + 1\n",
    "        pool_output_size = int(filter_num*(conv_output_size/2)*(conv_output_size/2))\n",
    "\n",
    "        self.params = {}\n",
    "        self.params['W1'] = weight_init_std*np.random.randn(filter_num , input_dim[0] , filter_size , filter_size)\n",
    "        self.params['b1'] = np.zeros(filter_num)\n",
    "        self.params['W2'] = weight_init_std*np.random.randn(pool_output_size , hidden_size)\n",
    "        self.params['b2'] = np.zeros(hidden_size)\n",
    "        self.params['W3'] = weight_init_std*np.random.randn(hidden_size , output_size)\n",
    "        self.params['b3'] = np.zeros(output_size)\n",
    "\n",
    "        self.layers = OrderedDict()\n",
    "        self.layers['Conv1'] = Convolution(self.params['W1'] , self.params['b1'] , conv_param['stride'] , conv_param['pad'])\n",
    "        self.layers['Relu1'] = Relu()\n",
    "        self.layers['Pool1'] = Pooling(pool_h=2 , pool_w=2 , stride=2)\n",
    "        self.layers['Affine1'] = Affine(self.params['W2'] , self.params['b2'])\n",
    "        self.layers['Relu2'] = Relu()\n",
    "        self.layers['Affine2'] = Affine(self.params['W3'] , self.params['b3'])\n",
    "\n",
    "        self.last_layer = SoftmaxWithLoss()\n",
    "\n",
    "    # 推論処理\n",
    "    def predict(self , x):\n",
    "        for layer in self.layers.values():\n",
    "            x = layer.forward(x)\n",
    "        return x\n",
    "    \n",
    "    # 損失関数の計算\n",
    "    def loss(self , x , t):\n",
    "        y = self.predict(x)\n",
    "        return self.last_layer.forward(y , t)\n",
    "    \n",
    "    # 認識精度の計算\n",
    "    def gradient(self , x , t):\n",
    "        # forward\n",
    "        self.loss(x , t)\n",
    "\n",
    "        # backward\n",
    "        dout = 1\n",
    "        dout = self.last_layer.backward(dout)\n",
    "\n",
    "        layers = list(self.layers.values())\n",
    "        layers.reverse()\n",
    "        for layer in layers:\n",
    "            dout = layer.backward(dout)\n",
    "        grads = {}\n",
    "        grads['W1'] = self.layers['Conv1'].dW\n",
    "        grads['b1'] = self.layers['Conv1'].db\n",
    "        grads['W2'] = self.layers['Affine1'].dW\n",
    "        grads['b2'] = self.layers['Affine1'].db\n",
    "        grads['W3'] = self.layers['Affine2'].dW\n",
    "        grads['b3'] = self.layers['Affine2'].db\n",
    "\n",
    "        return grads"
   ]
  },
  {
   "attachments": {},
   "cell_type": "markdown",
   "metadata": {},
   "source": [
    "### MNISTデータセットを用いて学習をしてみましょう"
   ]
  },
  {
   "cell_type": "code",
   "execution_count": 19,
   "metadata": {},
   "outputs": [
    {
     "name": "stdout",
     "output_type": "stream",
     "text": [
      "=== epoch:1, train acc:0.119, test acc:0.115 ===\n",
      "=== epoch:2, train acc:0.958, test acc:0.963 ===\n",
      "=== epoch:3, train acc:0.977, test acc:0.979 ===\n",
      "=== epoch:4, train acc:0.986, test acc:0.979 ===\n",
      "=== epoch:5, train acc:0.99, test acc:0.982 ===\n",
      "=== epoch:6, train acc:0.986, test acc:0.986 ===\n",
      "=== epoch:7, train acc:0.99, test acc:0.979 ===\n",
      "=== epoch:8, train acc:0.986, test acc:0.98 ===\n",
      "=== epoch:9, train acc:0.996, test acc:0.988 ===\n",
      "=== epoch:10, train acc:0.995, test acc:0.984 ===\n",
      "=== epoch:11, train acc:0.993, test acc:0.988 ===\n",
      "=== epoch:12, train acc:0.996, test acc:0.985 ===\n",
      "=== epoch:13, train acc:0.999, test acc:0.991 ===\n",
      "=== epoch:14, train acc:0.996, test acc:0.983 ===\n",
      "=== epoch:15, train acc:0.998, test acc:0.986 ===\n",
      "=== epoch:16, train acc:0.998, test acc:0.983 ===\n",
      "=== epoch:17, train acc:0.998, test acc:0.982 ===\n",
      "=== epoch:18, train acc:0.996, test acc:0.986 ===\n",
      "=== epoch:19, train acc:0.994, test acc:0.985 ===\n",
      "=== epoch:20, train acc:0.999, test acc:0.985 ===\n",
      "=============== Final Test Accuracy ===============\n",
      "test acc:0.9897\n",
      "Saved Network Parameters!\n"
     ]
    },
    {
     "data": {
      "image/png": "[encoded data removed]",
      "text/plain": [
       "<Figure size 640x480 with 1 Axes>"
      ]
     },
     "metadata": {},
     "output_type": "display_data"
    }
   ],
   "source": [
    "import numpy as np\n",
    "import matplotlib.pyplot as plt\n",
    "from mnist import load_mnist\n",
    "from simple_convnet import SimpleConvNet\n",
    "from trainer import Trainer\n",
    "\n",
    "\n",
    "plt.style.use('ggplot')\n",
    "\n",
    "# データの読み込み\n",
    "(x_train, t_train), (x_test, t_test) = load_mnist(flatten=False)\n",
    "\n",
    "# 処理に時間のかかる場合はデータを削減 \n",
    "# x_train, t_train = x_train[:5000], t_train[:5000]\n",
    "# x_test, t_test = x_test[:1000], t_test[:1000]\n",
    "\n",
    "max_epochs = 20\n",
    "\n",
    "network = SimpleConvNet(input_dim=(1,28,28), \n",
    "                        conv_param = {'filter_num': 30, 'filter_size': 5, 'pad': 0, 'stride': 1},\n",
    "                        hidden_size=100, output_size=10, weight_init_std=0.01)\n",
    "                        \n",
    "trainer = Trainer(network, x_train, t_train, x_test, t_test,\n",
    "                  epochs=max_epochs, mini_batch_size=100,\n",
    "                  optimizer='Adam', optimizer_param={'lr': 0.001},\n",
    "                  evaluate_sample_num_per_epoch=1000)\n",
    "trainer.train()\n",
    "\n",
    "# パラメータの保存\n",
    "network.save_params(\"params.pkl\")\n",
    "print(\"Saved Network Parameters!\")\n",
    "\n",
    "# グラフの描画\n",
    "markers = {'train': 'o', 'test': 's'}\n",
    "x = np.arange(max_epochs)\n",
    "plt.plot(x, trainer.train_acc_list, marker='o', label='train', markevery=2)\n",
    "plt.plot(x, trainer.test_acc_list, marker='s', label='test', markevery=2)\n",
    "plt.xlabel(\"epochs\")\n",
    "plt.ylabel(\"accuracy\")\n",
    "plt.ylim(0, 1.0)\n",
    "plt.legend(loc='lower right')\n",
    "plt.show()"
   ]
  },
  {
   "attachments": {},
   "cell_type": "markdown",
   "metadata": {},
   "source": [
    "結果として訓練識別率99.99%，テスト識別率98.97%となるようです．\n",
    "\n",
    "かなり早い段階で学習がうまく行っているようなのでバッチサイズは減らせそうですね．"
   ]
  },
  {
   "attachments": {},
   "cell_type": "markdown",
   "metadata": {},
   "source": [
    "## CNNの可視化\n",
    "畳み込み層は”何を見ている\"のでしょうか？\n",
    "\n",
    "畳み込みとは，そもそも相関を表す指標です．今回の場合では，入力とカーネルとの似ている具合を抽出していることになります．\n",
    "\n",
    "以下では，先程の学習に関する畳み込みのフィルターを画像として表示してみましょう．"
   ]
  },
  {
   "cell_type": "code",
   "execution_count": 21,
   "metadata": {},
   "outputs": [
    {
     "data": {
      "image/png": "[encoded data removed]",
      "text/plain": [
       "<Figure size 640x480 with 30 Axes>"
      ]
     },
     "metadata": {},
     "output_type": "display_data"
    },
    {
     "data": {
      "image/png": "[encoded data removed]",
      "text/plain": [
       "<Figure size 640x480 with 30 Axes>"
      ]
     },
     "metadata": {},
     "output_type": "display_data"
    }
   ],
   "source": [
    "import numpy as np\n",
    "import matplotlib.pyplot as plt\n",
    "from simple_convnet import SimpleConvNet\n",
    "\n",
    "def filter_show(filters, nx=8, margin=3, scale=10):\n",
    "    \"\"\"\n",
    "    c.f. https://gist.github.com/aidiary/07d530d5e08011832b12#file-draw_weight-py\n",
    "    \"\"\"\n",
    "    FN, C, FH, FW = filters.shape\n",
    "    ny = int(np.ceil(FN / nx))\n",
    "\n",
    "    fig = plt.figure()\n",
    "    fig.subplots_adjust(left=0, right=1, bottom=0, top=1, hspace=0.05, wspace=0.05)\n",
    "\n",
    "    for i in range(FN):\n",
    "        ax = fig.add_subplot(ny, nx, i+1, xticks=[], yticks=[])\n",
    "        ax.imshow(filters[i, 0], cmap=plt.cm.gray_r, interpolation='nearest')\n",
    "    plt.show()\n",
    "\n",
    "\n",
    "network = SimpleConvNet()\n",
    "# ランダム初期化後の重み\n",
    "filter_show(network.params['W1'])\n",
    "\n",
    "# 学習後の重み\n",
    "network.load_params(\"params.pkl\")\n",
    "filter_show(network.params['W1'])"
   ]
  },
  {
   "attachments": {},
   "cell_type": "markdown",
   "metadata": {},
   "source": [
    "上が学習前で，下が学習後です．\n",
    "\n",
    "学習後は学習前に比べてある程度の規則性が現れているのが見て取れます．\n",
    "\n",
    "このようなフィルターが見ているものとは「エッジ」や「ブロブ」と呼ばれるものです．\n",
    "\n",
    "エッジとは，色が変化する境目であり，ブロブとは，局所的に塊がある領域です．\n",
    "\n",
    "たとえば，左が白で右が黒である場合には，縦方向のエッジに反応するフィルターになります．（教科書図7-25）"
   ]
  },
  {
   "attachments": {},
   "cell_type": "markdown",
   "metadata": {},
   "source": [
    "## 代表的なCNN\n",
    "この資料の最後にこれまでの歴史上で有名なCNNについて紹介します．\n",
    "\n",
    "### LeNet\n",
    "LeNet5の原著論文：\n",
    "http://vision.stanford.edu/cs598_spring07/papers/Lecun98.pdf\n",
    "\n",
    "わかりやすい動画：\n",
    "https://www.youtube.com/watch?v=-tWolA2WvFI\n",
    "\n",
    "畳み込み，平均プーリング．畳み込み，平均プーリング，全結合，全結合という流れのニューラルネットワークです．"
   ]
  },
  {
   "attachments": {},
   "cell_type": "markdown",
   "metadata": {},
   "source": [
    "### AlexNet\n",
    "原著論文：\n",
    "https://proceedings.neurips.cc/paper_files/paper/2012/file/c399862d3b9d6b76c8436e924a68c45b-Paper.pdf\n",
    "\n",
    "わかりやすい動画：\n",
    "https://www.youtube.com/watch?v=KebUnMbOGU8\n",
    "\n",
    "第3次AIブームの火付け役\n",
    "\n",
    "畳み込み層とプーリング層の繰り返しが8回，全結合3回という流れのニューラルネット"
   ]
  },
  {
   "attachments": {},
   "cell_type": "markdown",
   "metadata": {},
   "source": []
  }
 ],
 "metadata": {
  "kernelspec": {
   "display_name": "base",
   "language": "python",
   "name": "python3"
  },
  "language_info": {
   "codemirror_mode": {
    "name": "ipython",
    "version": 3
   },
   "file_extension": ".py",
   "mimetype": "text/x-python",
   "name": "python",
   "nbconvert_exporter": "python",
   "pygments_lexer": "ipython3",
   "version": "3.10.9"
  },
  "orig_nbformat": 4
 },
 "nbformat": 4,
 "nbformat_minor": 2
}

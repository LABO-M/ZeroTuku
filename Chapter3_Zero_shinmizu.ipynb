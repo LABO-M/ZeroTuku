{
 "cells": [
  {
   "cell_type": "markdown",
   "id": "dimensional-scout",
   "metadata": {},
   "source": [
    "# 活性化関数\n",
    "パーセプトロンのときに用いた活性化関数はステップ関数\\\n",
    "ニューラルネットワークでよく使用される活性化関数の紹介をしていく\\\n",
    "その前に一応ステップ関数の可視化"
   ]
  },
  {
   "cell_type": "code",
   "execution_count": 54,
   "id": "forbidden-behavior",
   "metadata": {},
   "outputs": [],
   "source": [
    "import functions as func#坂西君が作ったfunctions.pyをimport\n",
    "import numpy as np\n",
    "import matplotlib.pylab as plt"
   ]
  },
  {
   "cell_type": "markdown",
   "id": "narrative-insurance",
   "metadata": {},
   "source": [
    "## ステップ関数\n",
    "$$\n",
    "    step(x)=\n",
    "        \\begin{cases}\n",
    "            1 \\quad x > 0 \\\\\n",
    "            0 \\quad x \\leqq 0\\\\\n",
    "        \\end{cases}\n",
    "$$"
   ]
  },
  {
   "cell_type": "code",
   "execution_count": 5,
   "id": "grave-berlin",
   "metadata": {},
   "outputs": [
    {
     "data": {
      "image/png": "[encoded data removed]",
      "text/plain": [
       "<Figure size 432x288 with 1 Axes>"
      ]
     },
     "metadata": {
      "needs_background": "light"
     },
     "output_type": "display_data"
    }
   ],
   "source": [
    "x = np.arange(-5.0, 5.0, 0.1)\n",
    "y = func.step_function(x)\n",
    "plt.plot(x, y)\n",
    "plt.ylim(-0.1, 1.1)\n",
    "plt.show()"
   ]
  },
  {
   "cell_type": "markdown",
   "id": "right-anniversary",
   "metadata": {},
   "source": [
    "## シグモイド関数\n",
    "$$\n",
    "σ(x)=\\frac{1}{1+\\exp(-x)}\n",
    "$$"
   ]
  },
  {
   "cell_type": "code",
   "execution_count": 6,
   "id": "accomplished-entrance",
   "metadata": {},
   "outputs": [
    {
     "data": {
      "image/png": "[encoded data removed]",
      "text/plain": [
       "<Figure size 432x288 with 1 Axes>"
      ]
     },
     "metadata": {
      "needs_background": "light"
     },
     "output_type": "display_data"
    }
   ],
   "source": [
    "x = np.arange(-5.0, 5.0, 0.1)\n",
    "y = func.sigmoid(x)\n",
    "plt.plot(x, y)\n",
    "plt.ylim(-0.1, 1.1)\n",
    "plt.show()"
   ]
  },
  {
   "cell_type": "markdown",
   "id": "constitutional-number",
   "metadata": {},
   "source": [
    "## ReLU関数\n",
    "$$\n",
    "    ReLU(x)=\n",
    "        \\begin{cases}\n",
    "            x \\quad x > 0 \\\\\n",
    "            0 \\quad x \\leqq 0\\\\\n",
    "        \\end{cases}\n",
    "$$"
   ]
  },
  {
   "cell_type": "code",
   "execution_count": 9,
   "id": "atlantic-organization",
   "metadata": {},
   "outputs": [
    {
     "data": {
      "image/png": "[encoded data removed]",
      "text/plain": [
       "<Figure size 432x288 with 1 Axes>"
      ]
     },
     "metadata": {
      "needs_background": "light"
     },
     "output_type": "display_data"
    }
   ],
   "source": [
    "x = np.arange(-5.0, 5.0, 0.1)\n",
    "y = func.relu(x)\n",
    "plt.plot(x, y)\n",
    "plt.ylim(-1.0, 5.5)\n",
    "plt.show()"
   ]
  },
  {
   "cell_type": "markdown",
   "id": "compliant-battle",
   "metadata": {},
   "source": [
    "この後はシグモイド関数を使っていくが,この本の後半は主にReLU関数を使用する"
   ]
  },
  {
   "cell_type": "markdown",
   "id": "sudden-grocery",
   "metadata": {},
   "source": [
    "## 多次元配列の復習\n",
    "ニューラルネットワークの実装の前に多次元配列の復習"
   ]
  },
  {
   "cell_type": "markdown",
   "id": "lesbian-crowd",
   "metadata": {},
   "source": [
    "np.array([[1,2], [3,4], [5,6]])は次のような行列と考えて良い\n",
    "$$\n",
    "   \\boldsymbol{M} = \n",
    "       \\begin{pmatrix}\n",
    "           1&2\\\\\n",
    "           3&4\\\\\n",
    "           5&6\\\\\n",
    "       \\end{pmatrix} \\quad\n",
    "$$\n",
    "\n",
    "また行列$\\boldsymbol{A}$と$\\boldsymbol{B}$の内積はnp.dot(A, B)で計算できる"
   ]
  },
  {
   "cell_type": "code",
   "execution_count": 12,
   "id": "closed-smell",
   "metadata": {},
   "outputs": [
    {
     "name": "stdout",
     "output_type": "stream",
     "text": [
      "(2, 3)\n",
      "(3, 2)\n",
      "[[22 28]\n",
      " [49 64]]\n"
     ]
    }
   ],
   "source": [
    "A = np.array([[1,2,3],[4,5,6]])\n",
    "B = np.array([[1,2], [3,4], [5,6]])\n",
    "print(A.shape)\n",
    "print(B.shape)\n",
    "print(np.dot(A, B))"
   ]
  },
  {
   "cell_type": "markdown",
   "id": "dense-nitrogen",
   "metadata": {},
   "source": [
    "## 3層ニューラルネットワークの実装\n",
    "具体例を用いて実際にやってみる\\\n",
    "活性化関数にはシグモイド関数を使う\\\n",
    "各入力とパラメータの値は適当"
   ]
  },
  {
   "cell_type": "code",
   "execution_count": 16,
   "id": "secondary-landing",
   "metadata": {},
   "outputs": [
    {
     "name": "stdout",
     "output_type": "stream",
     "text": [
      "[0.31682708 0.69627909]\n"
     ]
    }
   ],
   "source": [
    "def init_network(): #変数の初期化\n",
    "    network = {}\n",
    "    network[\"W1\"] = np.array([[0.1, 0.3, 0.5], [0.2, 0.4, 0.6]])   #0層から1層への重み\n",
    "    network[\"b1\"] = np.array([0.1, 0.2, 0.3])                      #0層から1層へのバイアス\n",
    "    network[\"W2\"] = np.array([[0.1, 0.4], [0.2, 0.5], [0.3, 0.6]]) #1層から2層への重み\n",
    "    network[\"b2\"] = np.array([0.1,0.2])                            #1層から2層へのバイアス\n",
    "    network[\"W3\"] = np.array([[0.1, 0.3], [0.2, 0.4]])             #2層から3層への重み\n",
    "    network[\"b3\"] = np.array([0.1, 0.2])                           #2層から3層へのバイアス\n",
    "    \n",
    "    return network\n",
    "\n",
    "def forward(network, x): #内積＋バイアスの計算\n",
    "    W1, W2, W3 = network[\"W1\"], network[\"W2\"], network[\"W3\"]\n",
    "    b1, b2, b3 = network[\"b1\"], network[\"b2\"], network[\"b3\"]\n",
    "    \n",
    "    a1 = np.dot(x, W1) + b1\n",
    "    z1 = func.sigmoid(a1)\n",
    "    a2 = np.dot(z1, W2) + b2\n",
    "    z2 = func.sigmoid(a2)\n",
    "    a3 = np.dot(z2, W3) + b3\n",
    "    y = func.identity_function(a3)\n",
    "    \n",
    "    return y\n",
    "\n",
    "network = init_network()\n",
    "x = np.array([1.0, 0.5])\n",
    "y = forward(network, x)\n",
    "print(y)"
   ]
  },
  {
   "cell_type": "markdown",
   "id": "serious-framework",
   "metadata": {},
   "source": [
    "なんとなくできてるっぽい"
   ]
  },
  {
   "cell_type": "markdown",
   "id": "naked-geography",
   "metadata": {},
   "source": [
    "## 出力層の設計\n",
    "ニューラルネットワークは分類問題と回帰問題のどちらにも対応しているが、一般的には回帰問題で恒等関数を、分類問題ではソフトマックス関数を使う。\\\n",
    "上の例では恒等関数identity_functionを使っている"
   ]
  },
  {
   "cell_type": "markdown",
   "id": "technical-former",
   "metadata": {},
   "source": [
    "## ソフトマックス関数\n",
    "$$\n",
    "    y_k = \n",
    "        \\frac{\\exp(a_k)}{\\sum_{i=1}^{n}\\exp(a_i)} \\quad\n",
    "$$"
   ]
  },
  {
   "cell_type": "code",
   "execution_count": 55,
   "id": "invisible-green",
   "metadata": {},
   "outputs": [
    {
     "data": {
      "image/png": "[encoded data removed]",
      "text/plain": [
       "<Figure size 432x288 with 1 Axes>"
      ]
     },
     "metadata": {
      "needs_background": "light"
     },
     "output_type": "display_data"
    },
    {
     "name": "stdout",
     "output_type": "stream",
     "text": [
      "1.0\n"
     ]
    }
   ],
   "source": [
    "x = np.array([0.3, 2.9, 4.0])\n",
    "y = func.softmax(x)\n",
    "plt.scatter(x, y)\n",
    "plt.ylim(-1.0, 1.0)\n",
    "plt.show()\n",
    "\n",
    "print(np.sum(y))"
   ]
  },
  {
   "cell_type": "markdown",
   "id": "inside-counter",
   "metadata": {},
   "source": [
    "定義からわかるように、yの総和1であるため、確率関数と見ることができる。\\\n",
    "分類問題では一番値の大きい、つまり確率の高いクラスを出力結果とする。\\\n",
    "図や定義から、入力xと出力yの大小関係は変化しないため、テストデータで分類を行う際にはソフトマックス関数は省略できる。\\\n",
    "ソフトマックス関数を使うのはテスト時ではなく学習時で、詳しくは4章を参照。"
   ]
  },
  {
   "cell_type": "markdown",
   "id": "patient-manner",
   "metadata": {},
   "source": [
    "## 手書き数字認識\n",
    "ニューラルネットワークの大まかな仕組みを学んだところで、実践的な問題に取り組む。\\\n",
    "今回は学習済みパラメータを使って、クラス分類のテストだけを行う。"
   ]
  },
  {
   "cell_type": "code",
   "execution_count": 38,
   "id": "powerful-documentation",
   "metadata": {},
   "outputs": [],
   "source": [
    "#テストデータの準備\n",
    "from mnist import load_mnist \n",
    "(x_train, t_train), (x_test, t_test) = load_mnist(flatten = True, normalize = False)"
   ]
  },
  {
   "cell_type": "code",
   "execution_count": 40,
   "id": "radical-pixel",
   "metadata": {},
   "outputs": [
    {
     "name": "stdout",
     "output_type": "stream",
     "text": [
      "(60000, 784)\n",
      "(60000,)\n",
      "(10000, 784)\n",
      "(10000,)\n"
     ]
    }
   ],
   "source": [
    "#データの形状を確かめる\n",
    "print(x_train.shape)\n",
    "print(t_train.shape)\n",
    "print(x_test.shape)\n",
    "print(t_test.shape)"
   ]
  },
  {
   "cell_type": "code",
   "execution_count": 46,
   "id": "composed-sharing",
   "metadata": {},
   "outputs": [
    {
     "name": "stdout",
     "output_type": "stream",
     "text": [
      "5\n",
      "(784,)\n",
      "(28, 28)\n"
     ]
    },
    {
     "data": {
      "image/png": "[encoded data removed]",
      "text/plain": [
       "<PIL.Image.Image image mode=L size=28x28 at 0x7F02FB003AC0>"
      ]
     },
     "metadata": {},
     "output_type": "display_data"
    }
   ],
   "source": [
    "#画像も表示させてみる\n",
    "from PIL import Image\n",
    "from IPython.display import display #Jupyter上で表示するのに必要\n",
    "\n",
    "def img_show(img):\n",
    "    pil_img = Image.fromarray(np.uint8(img))\n",
    "    display(pil_img)\n",
    "    \n",
    "img = x_train[0]\n",
    "label = t_train[0]\n",
    "print(label)\n",
    "print(img.shape)\n",
    "img = img.reshape(28, 28)\n",
    "print(img.shape)\n",
    "\n",
    "img_show(img)"
   ]
  },
  {
   "cell_type": "markdown",
   "id": "infinite-plant",
   "metadata": {},
   "source": [
    "## ニューラルネットワークの推論処理\n",
    "データのダウンロードが正常にできたようなので、推論処理を行う。\\\n",
    "入力層は28^2で784、出力層は10のニューロンを構成する。\\\n",
    "先程のように3層ニューラルネットワークで、1層は50、2層は100のニューロンからなる。"
   ]
  },
  {
   "cell_type": "code",
   "execution_count": 52,
   "id": "republican-firewall",
   "metadata": {},
   "outputs": [
    {
     "name": "stdout",
     "output_type": "stream",
     "text": [
      "Accuracy:0.9352\n"
     ]
    }
   ],
   "source": [
    "import pickle\n",
    "\n",
    "def get_data(): #データの取得\n",
    "    (x_train, t_train), (x_test, t_test) = load_mnist(normalize=True, flatten=True, one_hot_label=False)\n",
    "    return x_test, t_test\n",
    "\n",
    "\n",
    "def init_network(): #sample_weight.pklから学習済みのパラメータを持ってくる\n",
    "    with open(\"sample_weight.pkl\", 'rb') as f:\n",
    "        network = pickle.load(f)\n",
    "    return network\n",
    "\n",
    "\n",
    "def predict(network, x): #計算する\n",
    "    W1, W2, W3 = network['W1'], network['W2'], network['W3']\n",
    "    b1, b2, b3 = network['b1'], network['b2'], network['b3']\n",
    "\n",
    "    a1 = np.dot(x, W1) + b1\n",
    "    z1 = func.sigmoid(a1)\n",
    "    a2 = np.dot(z1, W2) + b2\n",
    "    z2 = func.sigmoid(a2)\n",
    "    a3 = np.dot(z2, W3) + b3\n",
    "    y = func.softmax(a3)\n",
    "\n",
    "    return y\n",
    "\n",
    "\n",
    "x, t = get_data()\n",
    "network = init_network()\n",
    "accuracy_cnt = 0 #推論が正しければ1カウントする変数を用意\n",
    "for i in range(len(x)):\n",
    "    y = predict(network, x[i])\n",
    "    p= np.argmax(y) # 最も確率の高い要素のインデックスを取得\n",
    "    if p == t[i]:\n",
    "        accuracy_cnt += 1\n",
    "\n",
    "print(\"Accuracy:\" + str(float(accuracy_cnt) / len(x))) #正解数をデータ数で割る"
   ]
  },
  {
   "cell_type": "markdown",
   "id": "weighted-territory",
   "metadata": {},
   "source": [
    "とりあえず学習済みパラメータを使っての推論処理は成功。\\\n",
    "これからはネットワークの構造や学習方法の工夫で99%を超えるようになるらしい。"
   ]
  },
  {
   "cell_type": "markdown",
   "id": "collectible-culture",
   "metadata": {},
   "source": [
    "## バッジ処理\n",
    "最後にバッジ処理について少し言及する\n",
    "### バッジ処理\n",
    "データ処理の際に、入力をまとまり(バッジ)に区切って処理すること。\\\n",
    "数値計算を扱うライブラリの多くが配列の大きい計算を効率良くできるように最適化されているため、一度に大きな配列を計算するほうが早く処理が終わる。\\\n",
    "先の例ではデータ長 = 60000回もの計算をしていた。"
   ]
  },
  {
   "cell_type": "code",
   "execution_count": 53,
   "id": "advance-promotion",
   "metadata": {},
   "outputs": [
    {
     "name": "stdout",
     "output_type": "stream",
     "text": [
      "Acccuracy:0.9352\n"
     ]
    }
   ],
   "source": [
    "#バッジ処理を実装してみる\n",
    "x, t = get_data()\n",
    "network = init_network()\n",
    "\n",
    "batch_size = 100 #1バッジ何個か(バッジサイズ)\n",
    "accuracy_cnt = 0\n",
    "\n",
    "for i in range(0, len(x), batch_size): #0からlen(x)-1までをbatch_sizeごとにループ\n",
    "    x_batch = x[i:i+batch_size] #batch_size = 100ごとにスライス\n",
    "    y_batch = predict(network, x_batch)\n",
    "    p = np.argmax(y_batch, axis = 1) #axis = 1 は行ごとにmaxを取ってという意味\n",
    "    accuracy_cnt += np.sum(p == t[i:i+batch_size])\n",
    "\n",
    "print(\"Acccuracy:\" + str(float(accuracy_cnt) / len(x)))"
   ]
  },
  {
   "cell_type": "markdown",
   "id": "diverse-typing",
   "metadata": {},
   "source": [
    "先程の答えと一致しているかつ、若干処理が速くなった。大成功。"
   ]
  }
 ],
 "metadata": {
  "kernelspec": {
   "display_name": "Python 3",
   "language": "python",
   "name": "python3"
  },
  "language_info": {
   "codemirror_mode": {
    "name": "ipython",
    "version": 3
   },
   "file_extension": ".py",
   "mimetype": "text/x-python",
   "name": "python",
   "nbconvert_exporter": "python",
   "pygments_lexer": "ipython3",
   "version": "3.8.10"
  }
 },
 "nbformat": 4,
 "nbformat_minor": 5
}

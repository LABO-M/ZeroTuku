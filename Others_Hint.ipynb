{
 "cells": [
  {
   "attachments": {},
   "cell_type": "markdown",
   "metadata": {},
   "source": [
    "# 主成分分析と自己符号化器の比較"
   ]
  },
  {
   "attachments": {},
   "cell_type": "markdown",
   "metadata": {},
   "source": [
    "\n",
    "主成分分析と自己符号化器が同一視されることがあるのは、次元削減や特徴抽出という共通の目的を持っているためです。両者は異なる手法ですが、いくつかの観点で類似している点があります。\n",
    "\n",
    "#### 次元削減の目的: \n",
    "主成分分析と自己符号化器は、元のデータの次元を削減し、データの重要な情報を保持することを目指しています。どちらも高次元のデータを低次元の表現に変換することで、データの特徴をより効率的に表現することを目的としています。\n",
    "\n",
    "#### 特徴の抽出: \n",
    "主成分分析と自己符号化器は、データの重要な特徴を抽出するために学習されます。主成分分析では、変数間の共分散行列から得られる固有ベクトルが主成分となり、データの情報を保持するように選択されます。自己符号化器では、データの再構成誤差を最小化するために、データの特徴を抽出するためのエンコーダとデコーダが学習されます。\n",
    "\n",
    "#### 線形性の制約: \n",
    "主成分分析は線形な変換手法であり、変換後の主成分は元のデータの直交座標系の軸上に位置します。一方、自己符号化器は非線形な変換手法ですが、特に1層の自己符号化器の場合は線形変換に近い結果を得ることがあります。\n",
    "\n",
    "以上の点から、主成分分析と自己符号化器は次元削減や特徴抽出という共通の目的を持ち、データの重要な情報を抽出するために使用されることが多いため、一部では同一視されることがあります。ただし、両者は異なる手法であり、結果が必ずしも一致しないこともあることに留意する必要があります。"
   ]
  },
  {
   "cell_type": "code",
   "execution_count": 1,
   "metadata": {},
   "outputs": [
    {
     "name": "stderr",
     "output_type": "stream",
     "text": [
      "2023-05-26 15:21:56.929226: I tensorflow/tsl/cuda/cudart_stub.cc:28] Could not find cuda drivers on your machine, GPU will not be used.\n",
      "2023-05-26 15:21:57.187567: I tensorflow/tsl/cuda/cudart_stub.cc:28] Could not find cuda drivers on your machine, GPU will not be used.\n",
      "2023-05-26 15:21:57.188677: I tensorflow/core/platform/cpu_feature_guard.cc:182] This TensorFlow binary is optimized to use available CPU instructions in performance-critical operations.\n",
      "To enable the following instructions: AVX2 FMA, in other operations, rebuild TensorFlow with the appropriate compiler flags.\n",
      "2023-05-26 15:21:58.232729: W tensorflow/compiler/tf2tensorrt/utils/py_utils.cc:38] TF-TRT Warning: Could not find TensorRT\n"
     ]
    }
   ],
   "source": [
    "import numpy as np\n",
    "from sklearn.decomposition import PCA\n",
    "from sklearn.preprocessing import StandardScaler\n",
    "from keras.layers import Input, Dense\n",
    "from keras.models import Model"
   ]
  },
  {
   "attachments": {},
   "cell_type": "markdown",
   "metadata": {},
   "source": [
    "## 1. 主成分分析"
   ]
  },
  {
   "attachments": {},
   "cell_type": "markdown",
   "metadata": {},
   "source": [
    "主成分分析（Principal Component Analysis, PCA）は、多変量データの次元削減や特徴抽出によく用いられる統計手法です。\n",
    "\n",
    "#### Step 1: 平均の算出\n",
    "各変数の平均値を計算します。これにより、データセットの中心を原点に持ってくることができます。\n",
    "\n",
    "#### Step 2: データの中心化\n",
    "各変数からその変数の平均値を引くことで、データを中心化します。\n",
    "\n",
    "#### Step 3: 共分散行列の計算\n",
    "中心化されたデータセットから、変数間の共分散を表す共分散行列を計算します。\n",
    "\n",
    "共分散行列は、データセットの転置行列とデータセット自体の積で得られます。共分散行列は正方行列であり、対角線上の要素は各変数の分散を表し、非対角線上の要素は変数間の共分散を表します。\n",
    "\n",
    "#### Step 4: 共分散行列の固有値分解\n",
    "共分散行列を固有値分解することで、主成分を得ることができます。固有値はデータセットの分散を表し、固有ベクトルはそれぞれの主成分軸を表します。\n",
    "\n",
    "固有値分解によって、共分散行列から固有値と固有ベクトルを求めます。固有値は大きい順に並べ、固有ベクトルもそれに対応するように並べます。\n",
    "\n",
    "#### Step 5: 主成分の選択\n",
    "固有値の大きさが主成分の重要性を示しています。固有値が大きい順に固有ベクトルを選び、主成分とします。\n",
    "\n",
    "#### Step 6: 主成分スコアの計算\n",
    "主成分スコアは、各サンプル（観測値）を主成分軸上に射影した値です。これにより、元の多次元データを主成分の次元に射影したデータを得ることができます。\n",
    "\n",
    "主成分スコアは、データセットの各サンプルと主成分ベクトルの内積で計算されます。"
   ]
  },
  {
   "cell_type": "code",
   "execution_count": 4,
   "metadata": {},
   "outputs": [
    {
     "name": "stdout",
     "output_type": "stream",
     "text": [
      "Principal Components:\n",
      "[[-1.75395186e+00 -6.73601671e-02]\n",
      " [-2.53364377e+00 -6.73788823e-02]\n",
      " [-1.41980226e-03  2.69272231e-01]\n",
      " [ 1.36481580e+00 -6.72853062e-02]\n",
      " [ 2.92419963e+00 -6.72478757e-02]]\n"
     ]
    }
   ],
   "source": [
    "# サンプルデータの作成\n",
    "'''\n",
    "もともとは、4次元のデータを5つ作成している。\n",
    "今から実行する主成分分析では，4次元のデータを2次元に削減する。\n",
    "'''\n",
    "data = np.array([[2, 3, 4, 5],\n",
    "                 [1, 2, 3, 4],\n",
    "                 [5, 5, 6, 7],\n",
    "                 [6, 7, 8, 9],\n",
    "                 [8, 9, 10, 11]])\n",
    "\n",
    "# データの標準化\n",
    "scaler = StandardScaler()\n",
    "data_scaled = scaler.fit_transform(data)\n",
    "\n",
    "# 主成分分析の実行\n",
    "pca = PCA(n_components=2)  # 次元削減後の次元数を指定\n",
    "principal_components = pca.fit_transform(data_scaled)\n",
    "\n",
    "# 結果の表示\n",
    "print(\"Principal Components:\")\n",
    "print(principal_components)"
   ]
  },
  {
   "attachments": {},
   "cell_type": "markdown",
   "metadata": {},
   "source": [
    "## 2. 自己符号化器"
   ]
  },
  {
   "attachments": {},
   "cell_type": "markdown",
   "metadata": {},
   "source": [
    "自己符号化器（Autoencoder）は、ニューラルネットワークを用いた非線形次元削減手法です。一般的には、エンコーダとデコーダの2つの部分から構成されます。エンコーダは入力データを低次元の表現（潜在空間）に変換し、デコーダは潜在空間から元の次元に戻すように学習します。\n",
    "\n",
    "ここでは、単純な1層の自己符号化器を例にして解説します。\n",
    "\n",
    "#### Step 1: データの準備\n",
    "解析対象のデータセットを準備します。例として、4次元のデータを持つデータセットを考えましょう。このデータセットは5つのサンプル（観測値）からなる行列とします。\n",
    "\n",
    "#### Step 2: ネットワークの構築\n",
    "自己符号化器のネットワークを構築します。単純な1層の自己符号化器では、エンコーダとデコーダの両方に1つの全結合層を使用します。エンコーダの出力次元は低次元の潜在空間の次元となります。\n",
    "\n",
    "#### Step 3: ネットワークの学習\n",
    "データセットを用いて自己符号化器のネットワークを学習させます。学習の目標は、デコーダの出力が元のデータに近づくようにすることです。\n",
    "\n",
    "#### Step 4: エンコーダの活性化値の取得\n",
    "学習が終了したら、エンコーダの出力層の活性化値（潜在空間の表現）を取得します。この潜在空間の表現が次元削減や特徴抽出の結果となります。\n",
    "\n",
    "#### Step 5: デコーダを用いた再構成\n",
    "潜在空間の表現を入力として、デコーダを使って元の次元に再構成します。デコーダの出力は元のデータセットの再構成となります。\n",
    "\n",
    "以上が自己符号化器の手順です。エンコーダの出力が潜在空間の表現であり、デコーダを用いて元の次元に再構成することで、次元削減や特徴抽出が行われます。自己符号化器は非線形な変換を学習することができるため、主成分分析よりも柔軟な次元削減が可能となります。"
   ]
  },
  {
   "cell_type": "code",
   "execution_count": 9,
   "metadata": {},
   "outputs": [
    {
     "name": "stdout",
     "output_type": "stream",
     "text": [
      "WARNING:tensorflow:6 out of the last 6 calls to <function Model.make_predict_function.<locals>.predict_function at 0x7fe3f0126d40> triggered tf.function retracing. Tracing is expensive and the excessive number of tracings could be due to (1) creating @tf.function repeatedly in a loop, (2) passing tensors with different shapes, (3) passing Python objects instead of tensors. For (1), please define your @tf.function outside of the loop. For (2), @tf.function has reduce_retracing=True option that can avoid unnecessary retracing. For (3), please refer to https://www.tensorflow.org/guide/function#controlling_retracing and https://www.tensorflow.org/api_docs/python/tf/function for  more details.\n",
      "1/1 [==============================] - 0s 27ms/step\n",
      "Encoded Data:\n",
      "[[0.33723623 0.44940054]\n",
      " [0.48704097 0.6781305 ]\n",
      " [0.         0.26096627]\n",
      " [0.         0.        ]\n",
      " [0.         0.        ]]\n"
     ]
    }
   ],
   "source": [
    "'''\n",
    "主成分分析と同様に，自己符号化器も次元削減を行うことができる。\n",
    "今回は，4次元のデータを2次元に削減する。\n",
    "'''\n",
    "# サンプルデータの作成\n",
    "data = np.array([[2, 3, 4, 5],\n",
    "                 [1, 2, 3, 4],\n",
    "                 [5, 5, 6, 7],\n",
    "                 [6, 7, 8, 9],\n",
    "                 [8, 9, 10, 11]])\n",
    "\n",
    "# データの標準化\n",
    "scaler = StandardScaler()\n",
    "data_scaled = scaler.fit_transform(data)\n",
    "\n",
    "# 自己符号化器の構築\n",
    "input_dim = data.shape[1]  # 入力次元数\n",
    "encoding_dim = 2  # 潜在空間の次元数\n",
    "\n",
    "# エンコーダの定義\n",
    "input_data = Input(shape=(input_dim,))\n",
    "encoded = Dense(encoding_dim, activation='relu')(input_data)\n",
    "\n",
    "# エンコーダのモデルの定義\n",
    "encoder = Model(input_data, encoded)\n",
    "\n",
    "# エンコーダの出力を取得\n",
    "encoded_data = encoder.predict(data_scaled)\n",
    "\n",
    "# 結果の表示\n",
    "print(\"Encoded Data:\")\n",
    "print(encoded_data)\n"
   ]
  },
  {
   "cell_type": "code",
   "execution_count": null,
   "metadata": {},
   "outputs": [],
   "source": []
  }
 ],
 "metadata": {
  "kernelspec": {
   "display_name": "base",
   "language": "python",
   "name": "python3"
  },
  "language_info": {
   "codemirror_mode": {
    "name": "ipython",
    "version": 3
   },
   "file_extension": ".py",
   "mimetype": "text/x-python",
   "name": "python",
   "nbconvert_exporter": "python",
   "pygments_lexer": "ipython3",
   "version": "3.10.9"
  },
  "orig_nbformat": 4
 },
 "nbformat": 4,
 "nbformat_minor": 2
}

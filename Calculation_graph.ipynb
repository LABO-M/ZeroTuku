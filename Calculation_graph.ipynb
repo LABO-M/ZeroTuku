{
 "cells": [
  {
   "attachments": {},
   "cell_type": "markdown",
   "metadata": {},
   "source": [
    "# 計算グラフを理解しよう:2層ニューラルネットワークの実装に向けて"
   ]
  },
  {
   "cell_type": "code",
   "execution_count": 13,
   "metadata": {},
   "outputs": [],
   "source": [
    "import numpy as np"
   ]
  },
  {
   "attachments": {},
   "cell_type": "markdown",
   "metadata": {},
   "source": [
    "## 加算レイヤと乗算レイヤ，除算レイヤの実装"
   ]
  },
  {
   "cell_type": "code",
   "execution_count": 1,
   "metadata": {},
   "outputs": [],
   "source": [
    "# 加算レイヤ\n",
    "class AddLayer:\n",
    "    def __init__(self):\n",
    "        self.x = None\n",
    "        self.y = None\n",
    "\n",
    "    # 順伝播\n",
    "    def forward(self, x, y):\n",
    "        self.x = x\n",
    "        self.y = y\n",
    "        return x + y\n",
    "    \n",
    "    # 逆伝播\n",
    "    def backward(self, dout):\n",
    "        dx = dout * 1\n",
    "        dy = dout * 1\n",
    "        return dx, dy\n"
   ]
  },
  {
   "cell_type": "code",
   "execution_count": 3,
   "metadata": {},
   "outputs": [
    {
     "name": "stdout",
     "output_type": "stream",
     "text": [
      "30\n"
     ]
    }
   ],
   "source": [
    "x = 10\n",
    "y = 20\n",
    "add_layer = AddLayer() # インスタンス化\n",
    "z = add_layer.forward(x, y) # 順伝播\n",
    "print(z)"
   ]
  },
  {
   "cell_type": "code",
   "execution_count": 4,
   "metadata": {},
   "outputs": [
    {
     "name": "stdout",
     "output_type": "stream",
     "text": [
      "1 1\n"
     ]
    }
   ],
   "source": [
    "dout = 1\n",
    "dx, dy = add_layer.backward(dout) # 逆伝播\n",
    "print(dx, dy)"
   ]
  },
  {
   "cell_type": "code",
   "execution_count": 2,
   "metadata": {},
   "outputs": [],
   "source": [
    "# 乗算レイヤ\n",
    "class MulLayer:\n",
    "    def __init__(self):\n",
    "        self.x = None\n",
    "        self.y = None\n",
    "    \n",
    "    # 順伝播\n",
    "    def forward(self, x, y):\n",
    "        self.x = x\n",
    "        self.y = y\n",
    "        return x * y\n",
    "    \n",
    "    # 逆伝播\n",
    "    def backward(self, dout):\n",
    "        dx = dout * self.y\n",
    "        dy = dout * self.x\n",
    "        return dx, dy"
   ]
  },
  {
   "cell_type": "code",
   "execution_count": 5,
   "metadata": {},
   "outputs": [
    {
     "name": "stdout",
     "output_type": "stream",
     "text": [
      "200\n"
     ]
    }
   ],
   "source": [
    "x = 10\n",
    "y = 20\n",
    "mul_layer = MulLayer() # インスタンス化\n",
    "z = mul_layer.forward(x, y) # 順伝播\n",
    "print(z)"
   ]
  },
  {
   "cell_type": "code",
   "execution_count": 6,
   "metadata": {},
   "outputs": [
    {
     "name": "stdout",
     "output_type": "stream",
     "text": [
      "20 10\n"
     ]
    }
   ],
   "source": [
    "dout = 1\n",
    "dx, dy = mul_layer.backward(dout) # 逆伝播\n",
    "print(dx, dy)"
   ]
  },
  {
   "cell_type": "code",
   "execution_count": 8,
   "metadata": {},
   "outputs": [],
   "source": [
    "class DivLayer:\n",
    "    def __init__(self):\n",
    "        self.x = None\n",
    "        self.y = None\n",
    "    \n",
    "    # 順伝播\n",
    "    def forward(self, x, y):\n",
    "        self.x = x\n",
    "        self.y = y\n",
    "        return x / y\n",
    "    \n",
    "    # 逆伝播\n",
    "    def backward(self, dout):\n",
    "        dx = dout / self.y\n",
    "        dy = dout * (-self.x / self.y ** 2)\n",
    "        return dx, dy"
   ]
  },
  {
   "cell_type": "code",
   "execution_count": 9,
   "metadata": {},
   "outputs": [
    {
     "name": "stdout",
     "output_type": "stream",
     "text": [
      "0.5\n"
     ]
    }
   ],
   "source": [
    "x = 10\n",
    "y = 20\n",
    "div_layer = DivLayer() # インスタンス化\n",
    "z = div_layer.forward(x, y) # 順伝播\n",
    "print(z)"
   ]
  },
  {
   "cell_type": "code",
   "execution_count": 10,
   "metadata": {},
   "outputs": [
    {
     "name": "stdout",
     "output_type": "stream",
     "text": [
      "0.05 -0.025\n"
     ]
    }
   ],
   "source": [
    "dout = 1\n",
    "dx, dy = div_layer.backward(dout) # 逆伝播\n",
    "print(dx, dy)"
   ]
  },
  {
   "attachments": {},
   "cell_type": "markdown",
   "metadata": {},
   "source": [
    "## Sigomidレイヤの実装\n",
    "シグモイド関数は以下のように計算できます．\n",
    "$$\n",
    "\\sigma(x) = \\frac{1}{1 + \\exp(-x)}\n",
    "$$"
   ]
  },
  {
   "cell_type": "code",
   "execution_count": 7,
   "metadata": {},
   "outputs": [],
   "source": [
    "def sigmoid(x):\n",
    "    return 1 / (1 + np.exp(-x))"
   ]
  },
  {
   "attachments": {},
   "cell_type": "markdown",
   "metadata": {},
   "source": [
    "シグモイド関数の微分は以下のように計算できます．\n",
    "$$\n",
    "\\frac{\\partial \\sigma(x)}{\\partial x} = \\sigma(x)(1 - \\sigma(x))\n",
    "$$"
   ]
  },
  {
   "cell_type": "code",
   "execution_count": 11,
   "metadata": {},
   "outputs": [],
   "source": [
    "class SigmoidLayer:\n",
    "    def __init__(self):\n",
    "        self.out = None\n",
    "    \n",
    "    # 順伝播\n",
    "    def forward(self, x):\n",
    "        self.out = sigmoid(x)\n",
    "        return self.out\n",
    "    \n",
    "    # 逆伝播\n",
    "    def backward(self, dout):\n",
    "        dx = dout * self.out * (1.0 - self.out)\n",
    "        return dx"
   ]
  },
  {
   "cell_type": "code",
   "execution_count": 14,
   "metadata": {},
   "outputs": [
    {
     "name": "stdout",
     "output_type": "stream",
     "text": [
      "0.9999546021312976\n"
     ]
    }
   ],
   "source": [
    "x = 10\n",
    "sigmoid_layer = SigmoidLayer() # インスタンス化\n",
    "y = sigmoid_layer.forward(x) # 順伝播\n",
    "print(y)"
   ]
  },
  {
   "cell_type": "code",
   "execution_count": 15,
   "metadata": {},
   "outputs": [
    {
     "name": "stdout",
     "output_type": "stream",
     "text": [
      "4.5395807735907655e-05\n"
     ]
    }
   ],
   "source": [
    "dout = 1\n",
    "dx = sigmoid_layer.backward(dout) # 逆伝播\n",
    "print(dx)"
   ]
  },
  {
   "attachments": {},
   "cell_type": "markdown",
   "metadata": {},
   "source": [
    "## tanhレイヤの実装\n",
    "tanh関数は以下のように計算できます．\n",
    "$$\n",
    "\\tanh(x) = \\frac{\\exp(x) - \\exp(-x)}{\\exp(x) + \\exp(-x)}\n",
    "$$\n"
   ]
  },
  {
   "cell_type": "code",
   "execution_count": 23,
   "metadata": {},
   "outputs": [],
   "source": [
    "def tanh(x):\n",
    "    return np.tanh(x)"
   ]
  },
  {
   "attachments": {},
   "cell_type": "markdown",
   "metadata": {},
   "source": [
    "tanh関数の微分は以下のように計算できます．\n",
    "$$\n",
    "\\frac{\\partial \\tanh(x)}{\\partial x} = 1 - \\tanh^2(x)\n",
    "$$\n"
   ]
  },
  {
   "cell_type": "code",
   "execution_count": 24,
   "metadata": {},
   "outputs": [],
   "source": [
    "class TanhLayer:\n",
    "    def __init__(self):\n",
    "        self.out = None\n",
    "    \n",
    "    # 順伝播\n",
    "    def forward(self, x):\n",
    "        self.out = tanh(x)\n",
    "        return self.out\n",
    "    \n",
    "    # 逆伝播\n",
    "    def backward(self, dout):\n",
    "        dx = dout * (1.0 - self.out ** 2)\n",
    "        return dx"
   ]
  },
  {
   "attachments": {},
   "cell_type": "markdown",
   "metadata": {},
   "source": [
    "## MatMulレイヤの実装\n",
    "行列の積は以下のように計算できます．\n",
    "$$\n",
    "\\vec{y} = \\vec{x} \\cdot W \n",
    "$$\n",
    "\n",
    "行列の積の微分は以下のように計算できます．\n",
    "$$\n",
    "\\frac{\\partial \\vec{y}}{\\partial \\vec{x}} = W^T\n",
    "$$\n",
    "\n",
    "$W$での微分は以下のように計算できます．\n",
    "$$\n",
    "\\frac{\\partial \\vec{y}}{\\partial W} = \\vec{x}^T\n",
    "$$\n",
    "\n",
    "$x,y$がベクトルではばく，行列でも同様で\n",
    "$$\n",
    "y = x \\cdot W\n",
    "$$\n",
    "\n",
    "$$\n",
    "\\frac{\\partial y}{\\partial x} = W^T\n",
    "$$\n",
    "\n",
    "$$\n",
    "\\frac{\\partial y}{\\partial W} = x^T\n",
    "$$\n",
    "\n"
   ]
  },
  {
   "cell_type": "code",
   "execution_count": 25,
   "metadata": {},
   "outputs": [],
   "source": [
    "class MatMul:\n",
    "    def __init__(self, W):\n",
    "        self.W = W\n",
    "        self.x = None\n",
    "        self.dW = None\n",
    "    \n",
    "    # 順伝播\n",
    "    def forward(self, x):\n",
    "        self.x = x\n",
    "        out = np.dot(x, self.W)\n",
    "        return out\n",
    "    \n",
    "    # 逆伝播\n",
    "    def backward(self, dout):\n",
    "        dx = np.dot(dout, self.W.T)\n",
    "        self.dW = np.dot(self.x.T, dout)\n",
    "        return dx"
   ]
  },
  {
   "cell_type": "code",
   "execution_count": 39,
   "metadata": {},
   "outputs": [
    {
     "name": "stdout",
     "output_type": "stream",
     "text": [
      "[[ 9 12 15]\n",
      " [19 26 33]]\n"
     ]
    }
   ],
   "source": [
    "x = np.array([[1, 2],\n",
    "               [3, 4]])\n",
    "W = np.array([[1, 2, 3], \n",
    "              [4, 5, 6]])\n",
    "matmul_layer = MatMul(W) # インスタンス化\n",
    "y = matmul_layer.forward(x) # 順伝播\n",
    "print(y)"
   ]
  },
  {
   "cell_type": "code",
   "execution_count": 40,
   "metadata": {},
   "outputs": [
    {
     "name": "stdout",
     "output_type": "stream",
     "text": [
      "[[14 32]\n",
      " [32 77]]\n"
     ]
    }
   ],
   "source": [
    "dout = np.array([[1, 2, 3], \n",
    "                 [4, 5, 6]])\n",
    "dx = matmul_layer.backward(dout) # 逆伝播\n",
    "print(dx)\n"
   ]
  },
  {
   "attachments": {},
   "cell_type": "markdown",
   "metadata": {},
   "source": [
    "## RNNレイヤの実装\n",
    "RNNレイヤの順伝播は以下のように計算できます．\n",
    "\\begin{align*}\n",
    "\\mathbf{h}_t &= \\tanh(\\mathbf{h}_{t-1} \\mathbf{W}_h + \\mathbf{x}_t \\mathbf{W}_x + \\mathbf{b})\n",
    "\\end{align*}\n",
    "\n",
    "RNNレイヤの逆伝播は以下のように計算できます．\n",
    "\\begin{align*}\n",
    "\\frac{\\partial L}{\\partial \\mathbf{h}_{t-1}} &= \\frac{\\partial L}{\\partial \\mathbf{h}_t} \\mathbf{W}_h^T \\\\\n",
    "\\frac{\\partial L}{\\partial \\mathbf{W}_h} &= \\mathbf{h}_{t-1}^T \\frac{\\partial L}{\\partial \\mathbf{h}_t} \\\\\n",
    "\\frac{\\partial L}{\\partial \\mathbf{x}_t} &= \\frac{\\partial L}{\\partial \\mathbf{h}_t} \\mathbf{W}_x^T \\\\\n",
    "\\frac{\\partial L}{\\partial \\mathbf{W}_x} &= \\mathbf{x}_t^T \\frac{\\partial L}{\\partial \\mathbf{h}_t} \\\\\n",
    "\\frac{\\partial L}{\\partial \\mathbf{b}} &= \\sum_{t=1}^T \\frac{\\partial L}{\\partial \\mathbf{h}_t}\n",
    "\\end{align*}\n"
   ]
  },
  {
   "cell_type": "code",
   "execution_count": 41,
   "metadata": {},
   "outputs": [],
   "source": [
    "class RNN:\n",
    "    def __init__(self , Wx ,Wh ,b):\n",
    "        self.params = [Wx ,Wh ,b]\n",
    "        self.grads = [np.zeros_like(Wx) ,np.zeros_like(Wh) ,np.zeros_like(b)] # パラメータの初期化\n",
    "        self.cache = None \n",
    "    \n",
    "    def forward(self ,x ,h_prev):\n",
    "        Wx ,Wh ,b = self.params\n",
    "        t = np.dot(h_prev ,Wh) + np.dot(x ,Wx) + b\n",
    "        h_next = np.tanh(t)\n",
    "        \n",
    "        self.cache = (x ,h_prev ,h_next)\n",
    "        return h_next\n",
    "\n",
    "    def backward(self ,dh_next):\n",
    "        Wx ,Wh ,b = self.params\n",
    "        x ,h_prev ,h_next = self.cache\n",
    "        \n",
    "        dt = dh_next * (1 - h_next**2) \n",
    "        db = np.sum(dt ,axis = 0)\n",
    "        dWh = np.dot(h_prev.T ,dt)\n",
    "        dh_prev = np.dot(dt ,Wh.T)\n",
    "        dWx = np.dot(x.T ,dt)\n",
    "        dx = np.dot(dt ,Wx.T)\n",
    "        \n",
    "        self.grads[0][...] = dWx\n",
    "        self.grads[1][...] = dWh\n",
    "        self.grads[2][...] = db\n",
    "        \n",
    "        return dx ,dh_prev"
   ]
  },
  {
   "cell_type": "code",
   "execution_count": null,
   "metadata": {},
   "outputs": [],
   "source": []
  }
 ],
 "metadata": {
  "kernelspec": {
   "display_name": "base",
   "language": "python",
   "name": "python3"
  },
  "language_info": {
   "codemirror_mode": {
    "name": "ipython",
    "version": 3
   },
   "file_extension": ".py",
   "mimetype": "text/x-python",
   "name": "python",
   "nbconvert_exporter": "python",
   "pygments_lexer": "ipython3",
   "version": "3.10.9"
  },
  "orig_nbformat": 4
 },
 "nbformat": 4,
 "nbformat_minor": 2
}
